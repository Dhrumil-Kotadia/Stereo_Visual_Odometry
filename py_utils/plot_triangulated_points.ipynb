{
 "cells": [
  {
   "cell_type": "code",
   "execution_count": null,
   "metadata": {},
   "outputs": [],
   "source": [
    "import numpy as np\n",
    "import matplotlib.pyplot as plt"
   ]
  },
  {
   "cell_type": "code",
   "execution_count": null,
   "metadata": {},
   "outputs": [],
   "source": [
    "feature_data = np.loadtxt(\"../outputs/triangulated_points.txt\", delimiter=\",\")\n",
    "f_x, f_y, f_z = feature_data[:, 0], feature_data[:,1], feature_data[:,2]\n",
    "vehicle_data = np.loadtxt(\"../outputs/translation.txt\", delimiter=\",\")\n",
    "v_x, v_y, v_z = vehicle_data[:,0], vehicle_data[:,1], vehicle_data[:,2]"
   ]
  },
  {
   "cell_type": "code",
   "execution_count": null,
   "metadata": {},
   "outputs": [],
   "source": [
    "print(\"Number of features: \",len(f_x))\n",
    "print(\"Number of camera poses: \",len(v_x))"
   ]
  },
  {
   "cell_type": "code",
   "execution_count": null,
   "metadata": {},
   "outputs": [],
   "source": [
    "plt.scatter(v_x, -v_z, s=15)\n",
    "plt.scatter(f_x, f_z, c='r', s=0.5)\n",
    "plt.xlabel(\"X\")\n",
    "plt.ylabel(\"Z\")\n",
    "plt.title(\"Triangulated 3D Points (X-Z View)\")\n",
    "plt.xlim([-10, 60])\n",
    "plt.ylim([-0.5, 100])    \n",
    "# plt.grid()\n",
    "plt.show()"
   ]
  },
  {
   "cell_type": "code",
   "execution_count": null,
   "metadata": {},
   "outputs": [],
   "source": [
    "# 3D plot of the triangulated points and camera poses\n",
    "fig = plt.figure()\n",
    "ax = fig.add_subplot(111, projection='3d')\n",
    "ax.scatter(v_x, v_y, -v_z, c='b', label='Camera Poses')\n",
    "ax.scatter(f_x, f_y, f_z, c='r', s=0.5, label='Triangulated Points')\n",
    "ax.set_xlabel('X')\n",
    "ax.set_ylabel('Y')\n",
    "ax.set_zlabel('Z')\n",
    "plt.xlim([-10, 60])\n",
    "plt.ylim([-10, 60])\n",
    "ax.set_zlim(-0.5, 100)\n",
    "plt.title(\"Triangulated 3D Points\")\n",
    "plt.legend()\n",
    "plt.show()\n"
   ]
  }
 ],
 "metadata": {
  "kernelspec": {
   "display_name": "usr",
   "language": "python",
   "name": "python3"
  },
  "language_info": {
   "codemirror_mode": {
    "name": "ipython",
    "version": 3
   },
   "file_extension": ".py",
   "mimetype": "text/x-python",
   "name": "python",
   "nbconvert_exporter": "python",
   "pygments_lexer": "ipython3",
   "version": "3.10.12"
  }
 },
 "nbformat": 4,
 "nbformat_minor": 2
}
